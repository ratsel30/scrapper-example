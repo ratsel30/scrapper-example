{
 "cells": [
  {
   "cell_type": "code",
   "execution_count": 1,
   "metadata": {},
   "outputs": [],
   "source": [
    "import pandas as pd\n",
    "import re\n",
    "import requests\n",
    "from lxml import html\n",
    "import sys\n",
    "\n"
   ]
  },
  {
   "cell_type": "code",
   "execution_count": 2,
   "metadata": {},
   "outputs": [],
   "source": [
    "class Scrapper:\n",
    "    \n",
    "    def __init__(self, source, link_pattern, xpath_title, xpath_image, df, max_while = 4, max_links = 5):\n",
    "        self.source = source\n",
    "        self.link_pattern = link_pattern\n",
    "        self.xpath_title = xpath_title\n",
    "        self.xpath_image = xpath_image\n",
    "        self.df = df\n",
    "        self.max_while = max_while\n",
    "        self.max_links = max_links\n",
    "        self.link_storage = []\n",
    "        self.link_history = []\n",
    "    \n",
    "    def scrape(self, seed_link):\n",
    "        self.link_storage.append(seed_link)\n",
    "        print('Put link into seed link storage')\n",
    "        i = 0\n",
    "        while True:\n",
    "            links_list_length = len(self.link_storage)\n",
    "            print('Entered while cycle')\n",
    "            links = self.link_storage.copy()\n",
    "            for link in links:\n",
    "                print('Entered for cycle')\n",
    "                if link not in self.link_history:\n",
    "                    seed_page = self.load(link)\n",
    "                    print('Tried to load: ' + link)\n",
    "                    self.link_history.append(link)\n",
    "                    if seed_page:\n",
    "                        print('Loaded: ' + link)\n",
    "                        if self.is_needed(link):\n",
    "                            print('Link is needed: ' + link)\n",
    "                            self.extract_info(seed_page)\n",
    "                            print('Info extracted')\n",
    "                        self.extract_links(seed_page)\n",
    "                        print('Links extracted')\n",
    "                if self.df.shape[0] > self.max_links:\n",
    "                    break\n",
    "            if links_list_length == len(self.link_storage):\n",
    "                i += 1\n",
    "            if self.df.shape[0] > self.max_links or i > self.max_while:\n",
    "                break\n",
    "        #    self.scrape(self.link_storage)\n",
    "        return self.df\n",
    "    \n",
    "    def extract_links(self, page):\n",
    "        pattern = self.source + '[a-z0-9\\-\\_\\.\\/]+'\n",
    "        links = re.findall(pattern, page.text)\n",
    "        for link in links:\n",
    "            if not link in self.link_storage:\n",
    "                self.link_storage.append(link)\n",
    "    \n",
    "    def load(self, link):\n",
    "        response = requests.get(link)            \n",
    "        return response\n",
    "    \n",
    "    def extract_info(self, page):\n",
    "        tree = html.fromstring(page.content.decode('UTF-8'))\n",
    "        title = tree.xpath_title(self.xpath_title)\n",
    "        image = tree.xpath_image(self.xpath_image)\n",
    "        self.df = self.df.append(pd.DataFrame(title, image, columns=list(self.df.columns)),\n",
    "                                 ignore_index=True)\n",
    "        return title & image\n",
    "    \n",
    "    \n",
    "    def is_needed(self, link):\n",
    "        return bool(re.search(self.link_pattern, link))"
   ]
  },
  {
   "cell_type": "code",
   "execution_count": 3,
   "metadata": {},
   "outputs": [
    {
     "ename": "TypeError",
     "evalue": "__init__() missing 1 required positional argument: 'df'",
     "output_type": "error",
     "traceback": [
      "\u001b[1;31m---------------------------------------------------------------------------\u001b[0m",
      "\u001b[1;31mTypeError\u001b[0m                                 Traceback (most recent call last)",
      "\u001b[1;32m<ipython-input-3-e44ce4c68924>\u001b[0m in \u001b[0;36m<module>\u001b[1;34m\u001b[0m\n\u001b[0;32m      5\u001b[0m                           \u001b[1;34m'//title/text()'\u001b[0m\u001b[1;33m\u001b[0m\u001b[1;33m\u001b[0m\u001b[0m\n\u001b[0;32m      6\u001b[0m                           \u001b[1;34m'//img'\u001b[0m\u001b[1;33m,\u001b[0m\u001b[1;33m\u001b[0m\u001b[1;33m\u001b[0m\u001b[0m\n\u001b[1;32m----> 7\u001b[1;33m                           df)\n\u001b[0m",
      "\u001b[1;31mTypeError\u001b[0m: __init__() missing 1 required positional argument: 'df'"
     ]
    }
   ],
   "source": [
    "df = pd.DataFrame(columns=['title'])\n",
    "\n",
    "scrapper_kloop = Scrapper('https://www.nytimes.com', \n",
    "                          '/2018/11/02/technology',\n",
    "                          '//title/text()'\n",
    "                          '//img',\n",
    "                          df)"
   ]
  },
  {
   "cell_type": "code",
   "execution_count": null,
   "metadata": {},
   "outputs": [],
   "source": [
    "scrapper_kloop.scrape('https://www.nytimes.com/2018/11/02/technology/social-media-pittsburgh-synagogue-shooting.html?rref=collection%2Fsectioncollection%2Ftechnology&action=click&contentCollection=technology&region=rank&module=package&version=highlights&contentPlacement=2&pgtype=sectionfront9')"
   ]
  },
  {
   "cell_type": "code",
   "execution_count": null,
   "metadata": {},
   "outputs": [],
   "source": [
    "page = scrapper_kloop.load('https://www.nytimes.com/2018/11/02/technology/social-media-pittsburgh-synagogue-shooting.html?rref=collection%2Fsectioncollection%2Ftechnology&action=click&contentCollection=technology&region=rank&module=package&version=highlights&contentPlacement=2&pgtype=sectionfront')"
   ]
  },
  {
   "cell_type": "code",
   "execution_count": null,
   "metadata": {},
   "outputs": [],
   "source": [
    "info = scrapper_kloop.extract_info(page)"
   ]
  },
  {
   "cell_type": "code",
   "execution_count": null,
   "metadata": {},
   "outputs": [],
   "source": [
    "scrapper_kloop.df"
   ]
  },
  {
   "cell_type": "code",
   "execution_count": null,
   "metadata": {},
   "outputs": [],
   "source": [
    "scrapper_kloop.link_storage\n"
   ]
  },
  {
   "cell_type": "code",
   "execution_count": null,
   "metadata": {},
   "outputs": [],
   "source": []
  },
  {
   "cell_type": "code",
   "execution_count": null,
   "metadata": {},
   "outputs": [],
   "source": []
  }
 ],
 "metadata": {
  "kernelspec": {
   "display_name": "Python 3",
   "language": "python",
   "name": "python3"
  },
  "language_info": {
   "codemirror_mode": {
    "name": "ipython",
    "version": 3
   },
   "file_extension": ".py",
   "mimetype": "text/x-python",
   "name": "python",
   "nbconvert_exporter": "python",
   "pygments_lexer": "ipython3",
   "version": "3.7.1"
  }
 },
 "nbformat": 4,
 "nbformat_minor": 2
}
